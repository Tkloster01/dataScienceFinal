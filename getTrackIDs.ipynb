{
 "cells": [
  {
   "cell_type": "code",
   "execution_count": 1,
   "id": "194dcc3a-eb0b-41ac-a4d3-af002e634df4",
   "metadata": {},
   "outputs": [],
   "source": [
    "import matplotlib.pyplot as plt\n",
    "import numpy as np\n",
    "import pandas as pd\n",
    "import scipy.stats as stats\n",
    "import statsmodels.api as sm\n",
    "\n",
    "import requests"
   ]
  },
  {
   "cell_type": "code",
   "execution_count": 2,
   "id": "84a79eed-5c22-42b2-b7a3-2b48326246c6",
   "metadata": {},
   "outputs": [],
   "source": [
    "dfPlaylists = pd.read_csv(\"./playlistData/spotify_dataset.csv\", on_bad_lines='skip')"
   ]
  },
  {
   "cell_type": "code",
   "execution_count": 3,
   "id": "2d91d48b-1826-4dc1-ae53-5e798ad46333",
   "metadata": {},
   "outputs": [
    {
     "name": "stdout",
     "output_type": "stream",
     "text": [
      "user_id            07f0fc3be95dcd878966b1f9572ff670\n",
      " \"artistname\"                           Passion Pit\n",
      " \"trackname\"                             Sleepyhead\n",
      " \"playlistname\"                             Electro\n",
      "Name: 500, dtype: object\n"
     ]
    }
   ],
   "source": [
    "def printAmmount(start, ammount):\n",
    "    for i in range(start, ammount + start):\n",
    "        print(dfPlaylists.iloc[i])\n",
    "        \n",
    "printAmmount(500, 1)"
   ]
  },
  {
   "cell_type": "code",
   "execution_count": 4,
   "id": "961ed662-d19a-402d-9e91-935ca16d6c65",
   "metadata": {},
   "outputs": [],
   "source": [
    "playlists = []\n",
    "playlistNames = []\n",
    "dfPlaylists.iloc[0][3]\n",
    "for i in range(100000): # change to the whole thing at end\n",
    "    currentPLName = dfPlaylists.iloc[i][3]\n",
    "    if (currentPLName not in playlistNames):\n",
    "        playlistNames.append(currentPLName)\n",
    "        playlists.append([])\n",
    "        \n",
    "    playlists[playlistNames.index(currentPLName)].append((dfPlaylists.iloc[i][1], dfPlaylists.iloc[i][2]))"
   ]
  },
  {
   "cell_type": "code",
   "execution_count": 5,
   "id": "3450c04b-09d2-4f79-a257-b90eb1b77ed1",
   "metadata": {},
   "outputs": [
    {
     "name": "stdout",
     "output_type": "stream",
     "text": [
      "67\n",
      "1904\n"
     ]
    }
   ],
   "source": [
    "print(len(playlists[0]))\n",
    "print(len(playlistNames))"
   ]
  },
  {
   "cell_type": "code",
   "execution_count": 6,
   "id": "ad20add5-e5c4-4ed9-b47d-9cd36faaf86c",
   "metadata": {},
   "outputs": [],
   "source": [
    "data = {\n",
    "    'grant_type': 'client_credentials',\n",
    "    'client_id': 'ec3bd517542a46a7bb2d2af61972f4dc',\n",
    "    'client_secret': 'ba508a2a2f9d49c1bfb04576085c5dc1'\n",
    "}\n",
    "\n",
    "accessToken = requests.post('https://accounts.spotify.com/api/token', data=data).json()\n",
    "\n",
    "tokenHeader = {\n",
    "    'Authorization': accessToken['token_type'] + ' ' + accessToken['access_token']\n",
    "}"
   ]
  },
  {
   "cell_type": "code",
   "execution_count": 7,
   "id": "3ccd1475-0791-4f94-8a4b-bbc3f47be731",
   "metadata": {},
   "outputs": [
    {
     "name": "stdout",
     "output_type": "stream",
     "text": [
      "{'access_token': 'BQC9ZYeOJYGAlwpffBiDefnsZ5NIbe28vuhwn7kMUQhDVkvk8118iHBaMeGFA-jUzO0iIdF9lTqXPvp0wi3NgeH0-kU25g69_CxybFNCUPi4QEnLcVk', 'token_type': 'Bearer', 'expires_in': 3600}\n"
     ]
    }
   ],
   "source": [
    "print(accessToken)"
   ]
  },
  {
   "cell_type": "code",
   "execution_count": 8,
   "id": "3178221e-3a23-4305-af4e-918d5fc9eadd",
   "metadata": {},
   "outputs": [
    {
     "name": "stdout",
     "output_type": "stream",
     "text": [
      "- Live at CitiField, NYC - Digital Audio\n"
     ]
    }
   ],
   "source": [
    "def removeLastWord(trackName):\n",
    "    words = []\n",
    "    previous = 0\n",
    "    new = 0\n",
    "    for i in range(len(trackName)):\n",
    "        foundSpace = False\n",
    "        if (trackName[i] == ' '):\n",
    "            foundSpace = True\n",
    "            previous = new\n",
    "            \n",
    "        if (foundSpace):\n",
    "            new = i\n",
    "            words.append(trackName[previous : new])\n",
    "            foundSpace = False\n",
    "            \n",
    "    newTrackName = \"\"\n",
    "    for i in words:\n",
    "        newTrackName += i\n",
    "        \n",
    "    return newTrackName\n",
    "\n",
    "def removeFirstWord(trackName):\n",
    "    words = []\n",
    "    previous = 0\n",
    "    new = 0\n",
    "    for i in range(len(trackName)):\n",
    "        foundSpace = False\n",
    "        if (trackName[i] == ' '):\n",
    "            foundSpace = True\n",
    "            previous = new\n",
    "            \n",
    "        if (foundSpace):\n",
    "            new = i\n",
    "            words.append(trackName[previous : new])\n",
    "            foundSpace = False\n",
    "            \n",
    "        if (i + 1 == len(trackName)):\n",
    "            previous = new\n",
    "            new = i + 1\n",
    "            words.append(trackName[previous : new])\n",
    "            \n",
    "    newTrackName = \"\"\n",
    "    for i in range(1, len(words)):\n",
    "        newTrackName += words[i]\n",
    "        \n",
    "    if (len(newTrackName) > 0 and newTrackName[0] == \" \"):\n",
    "        newTrackName = newTrackName[1:]\n",
    "    return newTrackName\n",
    "\n",
    "x1 = removeLastWord(\"Blackbird - Live at CitiField, NYC - Digital Audio\")\n",
    "x2 = removeFirstWord(\"Blackbird - Live at CitiField, NYC - Digital Audio\")\n",
    "#x3 = removeFirstWord(x2)\n",
    "print(x2)"
   ]
  },
  {
   "cell_type": "code",
   "execution_count": 9,
   "id": "ca8bed76-3050-4511-9614-b354c0d427d3",
   "metadata": {},
   "outputs": [],
   "source": [
    "def getSpotifyIdByTrackName(trackName, trackArtist):\n",
    "    params = {\n",
    "        'q': 'track:' + trackName + \" artist:\" + trackArtist,\n",
    "        'type': 'track',\n",
    "        'limit': '1'\n",
    "    }\n",
    "\n",
    "    response = requests.get('https://api.spotify.com/v1/search', params=params, headers=tokenHeader).json()\n",
    "    trackNameCopy = trackName\n",
    "    \n",
    "    while (len(response['tracks']['items']) <= 0 and len(trackName) > 0): # if it dosen't find a song, it removes the last word and tries again\n",
    "        trackName = removeLastWord(trackName)\n",
    "        params = {\n",
    "            'q': 'track:' + trackName + \" artist:\" + trackArtist,\n",
    "            'type': 'track',\n",
    "            'limit': '1'\n",
    "        }\n",
    "        response = requests.get('https://api.spotify.com/v1/search', params=params, headers=tokenHeader).json()\n",
    "    while (len(response['tracks']['items']) <= 0 and len(trackNameCopy) > 0):\n",
    "        trackNameCopy = removeFirstWord(trackNameCopy)\n",
    "        params = {\n",
    "            'q': 'track:' + trackNameCopy + \" artist:\" + trackArtist,\n",
    "            'type': 'track',\n",
    "            'limit': '1'\n",
    "        }\n",
    "        response = requests.get('https://api.spotify.com/v1/search', params=params, headers=tokenHeader).json()\n",
    "        \n",
    "    if (len(trackNameCopy) <= 0):\n",
    "        return \"\"\n",
    "        \n",
    "    return response['tracks']['items'][0]['id']"
   ]
  },
  {
   "cell_type": "code",
   "execution_count": 10,
   "id": "da5b3190-f2b2-478a-bc41-9ca244c6eda0",
   "metadata": {},
   "outputs": [],
   "source": [
    "euphoriaID = getSpotifyIdByTrackName(\"euphoria\", \"Kendrick Lamar\")\n",
    "euphoriaCall = 'https://api.spotify.com/v1/tracks/' + euphoriaID\n",
    "meetTheGrahmsID = getSpotifyIdByTrackName(\"meet the grahams\", \"Kendrick Lamar\")\n",
    "meetTheGrahmsCall = 'https://api.spotify.com/v1/tracks/' + meetTheGrahmsID\n",
    "notLikeUsID = getSpotifyIdByTrackName(\"Not Like Us\", \"Kendrick Lamar\")\n",
    "notLikeUsCall = 'https://api.spotify.com/v1/tracks/' + notLikeUsID\n",
    "\n",
    "pushUpsID = getSpotifyIdByTrackName(\"Push Ups\", \"Drake\")\n",
    "pushUpsCall = 'https://api.spotify.com/v1/tracks/' + pushUpsID\n",
    "familyMattersID = getSpotifyIdByTrackName(\"Family Matters\", \"Drake\")\n",
    "familyMattersCall = 'https://api.spotify.com/v1/tracks/' + familyMattersID\n",
    "\n",
    "euphoriaResponse = requests.get(euphoriaCall, headers=tokenHeader)\n",
    "meetTheGrahmsResponse = requests.get(meetTheGrahmsCall, headers=tokenHeader)\n",
    "notLikeUsResponse = requests.get(notLikeUsCall, headers=tokenHeader)\n",
    "pushUpsResponse = requests.get(pushUpsCall, headers=tokenHeader)\n",
    "familyMattersResponse = requests.get(familyMattersCall, headers=tokenHeader)\n",
    "\n",
    "testID = getSpotifyIdByTrackName(\"Feeling Good\", \"Michael Bublé\")\n",
    "testCall = 'https://api.spotify.com/v1/tracks/' + testID\n",
    "testResponse = requests.get(testCall, headers=tokenHeader)"
   ]
  },
  {
   "cell_type": "code",
   "execution_count": 11,
   "id": "f7cd5ce7-695b-4d1c-815e-f45fd9d51924",
   "metadata": {},
   "outputs": [
    {
     "name": "stdout",
     "output_type": "stream",
     "text": [
      "(Kendrick) Euphoria popularity:  90\n",
      "(Kendrick) meet the grahams popularity:  79\n",
      "(Kendrick) not like us popularity:  85\n",
      "(Drake) push ups popularity:  90\n",
      "(Drake) family matters popularity:  79\n",
      "(Test) test popularity:  68\n"
     ]
    }
   ],
   "source": [
    "print(\"(Kendrick) Euphoria popularity: \" ,euphoriaResponse.json()['popularity'])\n",
    "print(\"(Kendrick) meet the grahams popularity: \" ,meetTheGrahmsResponse.json()['popularity'])\n",
    "print(\"(Kendrick) not like us popularity: \" ,notLikeUsResponse.json()['popularity'])\n",
    "print(\"(Drake) push ups popularity: \" ,pushUpsResponse.json()['popularity'])\n",
    "print(\"(Drake) family matters popularity: \" ,familyMattersResponse.json()['popularity'])\n",
    "print(\"(Test) test popularity: \" ,testResponse.json()['popularity'])"
   ]
  },
  {
   "cell_type": "code",
   "execution_count": 12,
   "id": "4a8c2bf6-97b8-4671-8fe4-a321e6e8ea4f",
   "metadata": {
    "tags": []
   },
   "outputs": [
    {
     "name": "stdout",
     "output_type": "stream",
     "text": [
      "Search:  Years Too Late\n",
      "Result ID:  2bfDYHwwNgFETaikWy8iqX\n"
     ]
    }
   ],
   "source": [
    "# test to make sure the id retrieved matches the song, dont run for every track to limit api calls\n",
    "trackResponse = getSpotifyIdByTrackName(\"7 Years Too Late\", \"Tiffany Page\")\n",
    "if (len(trackResponse) > 0):\n",
    "    resID = trackResponse\n",
    "else:\n",
    "    resID = \"\"\n",
    "print(\"Search: \", \"Years Too Late\")\n",
    "print(\"Result ID: \", resID)"
   ]
  },
  {
   "cell_type": "code",
   "execution_count": 13,
   "id": "29651c06-3450-451c-9a72-9010887a2261",
   "metadata": {},
   "outputs": [],
   "source": [
    "# create playlistsById from playlists\n",
    "# idealy do this with threading because its really slow\n",
    "trackIDs = []\n",
    "shape = dfPlaylists.shape\n",
    "doPartial = len(playlists[0]) + len(playlists[1])\n",
    "\n",
    "for i in range(doPartial):\n",
    "    ID = getSpotifyIdByTrackName(dfPlaylists.iloc[i][2], dfPlaylists.iloc[i][1])\n",
    "    trackIDs.append(ID)\n"
   ]
  },
  {
   "cell_type": "code",
   "execution_count": 14,
   "id": "44122fc7-b200-4988-b8a6-f34e50b3bea4",
   "metadata": {},
   "outputs": [],
   "source": [
    "for i in range(shape[0] - doPartial):\n",
    "    trackIDs.append(\"\")"
   ]
  },
  {
   "cell_type": "code",
   "execution_count": 15,
   "id": "3af1fd56-e135-4d6b-8b10-888c765d6b36",
   "metadata": {},
   "outputs": [
    {
     "data": {
      "text/html": [
       "<div>\n",
       "<style scoped>\n",
       "    .dataframe tbody tr th:only-of-type {\n",
       "        vertical-align: middle;\n",
       "    }\n",
       "\n",
       "    .dataframe tbody tr th {\n",
       "        vertical-align: top;\n",
       "    }\n",
       "\n",
       "    .dataframe thead th {\n",
       "        text-align: right;\n",
       "    }\n",
       "</style>\n",
       "<table border=\"1\" class=\"dataframe\">\n",
       "  <thead>\n",
       "    <tr style=\"text-align: right;\">\n",
       "      <th></th>\n",
       "      <th>user_id</th>\n",
       "      <th>\"artistname\"</th>\n",
       "      <th>\"trackname\"</th>\n",
       "      <th>\"playlistname\"</th>\n",
       "      <th>track_id</th>\n",
       "    </tr>\n",
       "  </thead>\n",
       "  <tbody>\n",
       "    <tr>\n",
       "      <th>0</th>\n",
       "      <td>9cc0cfd4d7d7885102480dd99e7a90d6</td>\n",
       "      <td>Elvis Costello</td>\n",
       "      <td>(The Angels Wanna Wear My) Red Shoes</td>\n",
       "      <td>HARD ROCK 2010</td>\n",
       "      <td>0GmLrYUBXDC5vti77zBZfJ</td>\n",
       "    </tr>\n",
       "    <tr>\n",
       "      <th>1</th>\n",
       "      <td>9cc0cfd4d7d7885102480dd99e7a90d6</td>\n",
       "      <td>Elvis Costello &amp; The Attractions</td>\n",
       "      <td>(What's So Funny 'Bout) Peace, Love And Unders...</td>\n",
       "      <td>HARD ROCK 2010</td>\n",
       "      <td>77XzsYwTkvLoveW01Lanrk</td>\n",
       "    </tr>\n",
       "    <tr>\n",
       "      <th>2</th>\n",
       "      <td>9cc0cfd4d7d7885102480dd99e7a90d6</td>\n",
       "      <td>Tiffany Page</td>\n",
       "      <td>7 Years Too Late</td>\n",
       "      <td>HARD ROCK 2010</td>\n",
       "      <td>2bfDYHwwNgFETaikWy8iqX</td>\n",
       "    </tr>\n",
       "    <tr>\n",
       "      <th>3</th>\n",
       "      <td>9cc0cfd4d7d7885102480dd99e7a90d6</td>\n",
       "      <td>Elvis Costello &amp; The Attractions</td>\n",
       "      <td>Accidents Will Happen</td>\n",
       "      <td>HARD ROCK 2010</td>\n",
       "      <td>2Rv3hGdKSLeX30V55asE3s</td>\n",
       "    </tr>\n",
       "    <tr>\n",
       "      <th>4</th>\n",
       "      <td>9cc0cfd4d7d7885102480dd99e7a90d6</td>\n",
       "      <td>Elvis Costello</td>\n",
       "      <td>Alison</td>\n",
       "      <td>HARD ROCK 2010</td>\n",
       "      <td>1v98rfd0an913AzHvMNG8a</td>\n",
       "    </tr>\n",
       "  </tbody>\n",
       "</table>\n",
       "</div>"
      ],
      "text/plain": [
       "                            user_id                      \"artistname\"  \\\n",
       "0  9cc0cfd4d7d7885102480dd99e7a90d6                    Elvis Costello   \n",
       "1  9cc0cfd4d7d7885102480dd99e7a90d6  Elvis Costello & The Attractions   \n",
       "2  9cc0cfd4d7d7885102480dd99e7a90d6                      Tiffany Page   \n",
       "3  9cc0cfd4d7d7885102480dd99e7a90d6  Elvis Costello & The Attractions   \n",
       "4  9cc0cfd4d7d7885102480dd99e7a90d6                    Elvis Costello   \n",
       "\n",
       "                                         \"trackname\"  \"playlistname\"  \\\n",
       "0               (The Angels Wanna Wear My) Red Shoes  HARD ROCK 2010   \n",
       "1  (What's So Funny 'Bout) Peace, Love And Unders...  HARD ROCK 2010   \n",
       "2                                   7 Years Too Late  HARD ROCK 2010   \n",
       "3                              Accidents Will Happen  HARD ROCK 2010   \n",
       "4                                             Alison  HARD ROCK 2010   \n",
       "\n",
       "                 track_id  \n",
       "0  0GmLrYUBXDC5vti77zBZfJ  \n",
       "1  77XzsYwTkvLoveW01Lanrk  \n",
       "2  2bfDYHwwNgFETaikWy8iqX  \n",
       "3  2Rv3hGdKSLeX30V55asE3s  \n",
       "4  1v98rfd0an913AzHvMNG8a  "
      ]
     },
     "execution_count": 15,
     "metadata": {},
     "output_type": "execute_result"
    }
   ],
   "source": [
    "if (\"track_id\" in dfPlaylists.columns):\n",
    "    dfPlaylists = dfPlaylists.drop(columns = \"track_id\")\n",
    "dfPlaylists.insert(4, \"track_id\", trackIDs)\n",
    "\n",
    "dfPlaylists.head()\n",
    "        "
   ]
  },
  {
   "cell_type": "code",
   "execution_count": 16,
   "id": "288a9918-0475-4b39-9c2f-ac40aead10cb",
   "metadata": {},
   "outputs": [],
   "source": [
    "# dfPlaylists.to_csv(\"./playlistData/playlistDataWithID.csv\")"
   ]
  }
 ],
 "metadata": {
  "kernelspec": {
   "display_name": "Python 3 (ipykernel)",
   "language": "python",
   "name": "python3"
  },
  "language_info": {
   "codemirror_mode": {
    "name": "ipython",
    "version": 3
   },
   "file_extension": ".py",
   "mimetype": "text/x-python",
   "name": "python",
   "nbconvert_exporter": "python",
   "pygments_lexer": "ipython3",
   "version": "3.9.13"
  }
 },
 "nbformat": 4,
 "nbformat_minor": 5
}
