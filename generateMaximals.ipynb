{
 "cells": [
  {
   "cell_type": "code",
   "execution_count": 1,
   "id": "847ce4f7-b794-4cd6-bebf-1b5e9d7855da",
   "metadata": {},
   "outputs": [],
   "source": [
    "import matplotlib.pyplot as plt\n",
    "import numpy as np\n",
    "import pandas as pd\n",
    "import scipy.stats as stats\n",
    "import statsmodels.api as sm\n"
   ]
  },
  {
   "cell_type": "code",
   "execution_count": 2,
   "id": "da57e001-b831-484d-938f-c7af3b7e29fc",
   "metadata": {},
   "outputs": [],
   "source": [
    "dfPlaylists = pd.read_csv(\"./playlistData/spotify_dataset.csv\", on_bad_lines='skip')"
   ]
  },
  {
   "cell_type": "code",
   "execution_count": 3,
   "id": "438b8094-ab92-4097-bdd4-509848ce1825",
   "metadata": {},
   "outputs": [
    {
     "data": {
      "text/html": [
       "<div>\n",
       "<style scoped>\n",
       "    .dataframe tbody tr th:only-of-type {\n",
       "        vertical-align: middle;\n",
       "    }\n",
       "\n",
       "    .dataframe tbody tr th {\n",
       "        vertical-align: top;\n",
       "    }\n",
       "\n",
       "    .dataframe thead th {\n",
       "        text-align: right;\n",
       "    }\n",
       "</style>\n",
       "<table border=\"1\" class=\"dataframe\">\n",
       "  <thead>\n",
       "    <tr style=\"text-align: right;\">\n",
       "      <th></th>\n",
       "      <th>user_id</th>\n",
       "      <th>\"artistname\"</th>\n",
       "      <th>\"trackname\"</th>\n",
       "      <th>\"playlistname\"</th>\n",
       "    </tr>\n",
       "  </thead>\n",
       "  <tbody>\n",
       "    <tr>\n",
       "      <th>0</th>\n",
       "      <td>9cc0cfd4d7d7885102480dd99e7a90d6</td>\n",
       "      <td>Elvis Costello</td>\n",
       "      <td>(The Angels Wanna Wear My) Red Shoes</td>\n",
       "      <td>HARD ROCK 2010</td>\n",
       "    </tr>\n",
       "    <tr>\n",
       "      <th>1</th>\n",
       "      <td>9cc0cfd4d7d7885102480dd99e7a90d6</td>\n",
       "      <td>Elvis Costello &amp; The Attractions</td>\n",
       "      <td>(What's So Funny 'Bout) Peace, Love And Unders...</td>\n",
       "      <td>HARD ROCK 2010</td>\n",
       "    </tr>\n",
       "    <tr>\n",
       "      <th>2</th>\n",
       "      <td>9cc0cfd4d7d7885102480dd99e7a90d6</td>\n",
       "      <td>Tiffany Page</td>\n",
       "      <td>7 Years Too Late</td>\n",
       "      <td>HARD ROCK 2010</td>\n",
       "    </tr>\n",
       "    <tr>\n",
       "      <th>3</th>\n",
       "      <td>9cc0cfd4d7d7885102480dd99e7a90d6</td>\n",
       "      <td>Elvis Costello &amp; The Attractions</td>\n",
       "      <td>Accidents Will Happen</td>\n",
       "      <td>HARD ROCK 2010</td>\n",
       "    </tr>\n",
       "    <tr>\n",
       "      <th>4</th>\n",
       "      <td>9cc0cfd4d7d7885102480dd99e7a90d6</td>\n",
       "      <td>Elvis Costello</td>\n",
       "      <td>Alison</td>\n",
       "      <td>HARD ROCK 2010</td>\n",
       "    </tr>\n",
       "  </tbody>\n",
       "</table>\n",
       "</div>"
      ],
      "text/plain": [
       "                            user_id                      \"artistname\"  \\\n",
       "0  9cc0cfd4d7d7885102480dd99e7a90d6                    Elvis Costello   \n",
       "1  9cc0cfd4d7d7885102480dd99e7a90d6  Elvis Costello & The Attractions   \n",
       "2  9cc0cfd4d7d7885102480dd99e7a90d6                      Tiffany Page   \n",
       "3  9cc0cfd4d7d7885102480dd99e7a90d6  Elvis Costello & The Attractions   \n",
       "4  9cc0cfd4d7d7885102480dd99e7a90d6                    Elvis Costello   \n",
       "\n",
       "                                         \"trackname\"  \"playlistname\"  \n",
       "0               (The Angels Wanna Wear My) Red Shoes  HARD ROCK 2010  \n",
       "1  (What's So Funny 'Bout) Peace, Love And Unders...  HARD ROCK 2010  \n",
       "2                                   7 Years Too Late  HARD ROCK 2010  \n",
       "3                              Accidents Will Happen  HARD ROCK 2010  \n",
       "4                                             Alison  HARD ROCK 2010  "
      ]
     },
     "execution_count": 3,
     "metadata": {},
     "output_type": "execute_result"
    }
   ],
   "source": [
    "dfPlaylists.head()"
   ]
  },
  {
   "cell_type": "code",
   "execution_count": 4,
   "id": "fe513451-2903-4fca-8718-72662ce65325",
   "metadata": {},
   "outputs": [
    {
     "name": "stdout",
     "output_type": "stream",
     "text": [
      "12891680\n"
     ]
    }
   ],
   "source": [
    "print(len(dfPlaylists))"
   ]
  },
  {
   "cell_type": "code",
   "execution_count": 5,
   "id": "50e6e78b-b375-4d48-9497-1a47cc3f2db5",
   "metadata": {},
   "outputs": [],
   "source": [
    "playlists = []\n",
    "playlistNames = []\n",
    "dfPlaylists.iloc[0][3]\n",
    "for i in range(20000): # change to the whole thing at end\n",
    "    currentPLName = dfPlaylists.iloc[i][3]\n",
    "    if (currentPLName not in playlistNames):\n",
    "        playlistNames.append(currentPLName)\n",
    "        playlists.append([])\n",
    "        \n",
    "    playlists[playlistNames.index(currentPLName)].append((dfPlaylists.iloc[i][1], dfPlaylists.iloc[i][2]))"
   ]
  },
  {
   "cell_type": "code",
   "execution_count": 6,
   "id": "67c8ec12-2196-4a94-a859-739e54e3cf9e",
   "metadata": {},
   "outputs": [
    {
     "name": "stdout",
     "output_type": "stream",
     "text": [
      "251\n"
     ]
    }
   ],
   "source": [
    "playlistsOG = playlists.copy()\n",
    "print(len(playlists))"
   ]
  },
  {
   "cell_type": "code",
   "execution_count": 7,
   "id": "e67aa3af-901b-4286-894c-fc53ffa8545f",
   "metadata": {},
   "outputs": [],
   "source": [
    "countSingeltons = {}\n",
    "\n",
    "for i in playlists:\n",
    "    for j in i:\n",
    "        if (j not in countSingeltons):\n",
    "            countSingeltons[j] = 1\n",
    "        else:\n",
    "            countSingeltons[j] += 1"
   ]
  },
  {
   "cell_type": "code",
   "execution_count": 8,
   "id": "f51accbe-401f-4683-a497-4323f5bde4b0",
   "metadata": {},
   "outputs": [],
   "source": [
    "keys = countSingeltons.keys()\n",
    "frequentSingeltons = {}\n",
    "threshold = 4\n",
    "\n",
    "for i in keys:\n",
    "    if (countSingeltons[i] >= threshold):\n",
    "        frequentSingeltons[i] = countSingeltons[i]"
   ]
  },
  {
   "cell_type": "code",
   "execution_count": 9,
   "id": "fa893f2e-4e0a-4e2c-93d1-e774b1fd317c",
   "metadata": {},
   "outputs": [
    {
     "name": "stdout",
     "output_type": "stream",
     "text": [
      "('Crosby, Stills & Nash', 'Southern Cross')\n"
     ]
    }
   ],
   "source": [
    "frequentSingeltonKeys = list(frequentSingeltons.keys())\n",
    "print(frequentSingeltonKeys[0])"
   ]
  },
  {
   "cell_type": "code",
   "execution_count": 10,
   "id": "74995a81-82be-4ba9-988a-b19d2ce2d73e",
   "metadata": {
    "tags": []
   },
   "outputs": [
    {
     "name": "stdout",
     "output_type": "stream",
     "text": [
      "251 120\n"
     ]
    }
   ],
   "source": [
    "# trim playlists\n",
    "def trimPlaylistSingelton(playlists, frequentKeys):\n",
    "    trimPlaylists = []\n",
    "    for i in playlists:\n",
    "        valid = False\n",
    "        for j in i:\n",
    "            if (j in frequentKeys):\n",
    "                valid = True\n",
    "\n",
    "        if (valid):\n",
    "            trimPlaylists.append(i)\n",
    "    \n",
    "    return trimPlaylists\n",
    "\n",
    "preLength = len(playlists)\n",
    "playlists = trimPlaylistSingelton(playlists, frequentSingeltonKeys)\n",
    "        \n",
    "print(preLength, len(playlists))"
   ]
  },
  {
   "cell_type": "raw",
   "id": "2c631be5-3538-4d00-818d-866142d9bf63",
   "metadata": {},
   "source": [
    "|       (0, 1) (0, 2) (0, 3) (0, 4) (0, 5)|     |   0  1  2  3  4 |\n",
    "|              (1, 2) (1, 3) (1, 4) (1, 5)|     |      5  6  7  8 |\n",
    "|                     (2, 3) (2, 4) (2, 5)|  =  |         9  10 11|\n",
    "|                            (3, 4) (3, 5)|     |            12 13|\n",
    "|                                   (4, 5)|     |               14|\n",
    "|                                         |     |                 |"
   ]
  },
  {
   "cell_type": "code",
   "execution_count": 11,
   "id": "1771602a-09b3-4cc5-99d1-4e3684502a3c",
   "metadata": {},
   "outputs": [],
   "source": [
    "def matrixToTriangular(i, j, n):\n",
    "    i = i + 1\n",
    "    j = j + 1\n",
    "    return int(((i - 1) * (n - (i / 2)) + j - i) - 1)"
   ]
  },
  {
   "cell_type": "code",
   "execution_count": 12,
   "id": "703418ab-fcd3-4be0-9b7c-c09acd631fde",
   "metadata": {},
   "outputs": [
    {
     "name": "stdout",
     "output_type": "stream",
     "text": [
      "243 29402\n"
     ]
    }
   ],
   "source": [
    "length = len(frequentSingeltonKeys)\n",
    "maxIndex = matrixToTriangular(length - 2, length -1, length)\n",
    "print(length, maxIndex)"
   ]
  },
  {
   "cell_type": "code",
   "execution_count": 13,
   "id": "c4b02cbf-681a-48a7-83c1-eb3abfa9ed62",
   "metadata": {},
   "outputs": [],
   "source": [
    "def countPairs(key1, key2, playlist):\n",
    "    count = 0\n",
    "    \n",
    "    start = 0\n",
    "    for i in playlist:\n",
    "        if (key1 in i and key2 in i):\n",
    "            count += 1\n",
    "\n",
    "    return count"
   ]
  },
  {
   "cell_type": "code",
   "execution_count": 14,
   "id": "4f31f7bb-0856-4264-8b82-9928287c5513",
   "metadata": {},
   "outputs": [],
   "source": [
    "triangularCounts1 = [0 for i in range(maxIndex + 1)]\n",
    "\n",
    "def fillTriangleCounts(length, keys, playlist, triangularCounts):\n",
    "    for i in range(0, length): # ideally do this with the spotify id's to pass less string\n",
    "        for j in range(i + 1, length):\n",
    "            index = matrixToTriangular(i, j, length)\n",
    "            triangularCounts[index] = countPairs(keys[i], keys[j], playlist)\n",
    "            \n",
    "fillTriangleCounts(length, frequentSingeltonKeys, playlists, triangularCounts1)\n"
   ]
  },
  {
   "cell_type": "code",
   "execution_count": 15,
   "id": "34b6f822-9c7b-4699-b9a3-b2ef354927a8",
   "metadata": {},
   "outputs": [
    {
     "name": "stdout",
     "output_type": "stream",
     "text": [
      "(('Daft Punk', 'Derezzed'), ('Daft Punk', 'Tron Legacy (End Titles)'))\n"
     ]
    }
   ],
   "source": [
    "frequentPairs = {}\n",
    "lengthTriangular = len(triangularCounts1)\n",
    "for i in range(length):\n",
    "    for j in range(i + 1, length):\n",
    "        index = matrixToTriangular(i, j, length)\n",
    "        if (triangularCounts1[index] >= threshold):\n",
    "            frequentPairs[(frequentSingeltonKeys[i], frequentSingeltonKeys[j])] = triangularCounts1[index]\n",
    "            \n",
    "print(list(frequentPairs.keys())[0])\n",
    "frequentPairKeys = list(frequentPairs.keys())"
   ]
  },
  {
   "cell_type": "code",
   "execution_count": 16,
   "id": "cb889a5e-b8ee-4c67-bf73-97d0d74ac6b7",
   "metadata": {},
   "outputs": [],
   "source": [
    "recommendations = []\n",
    "for i in range(2): # change to amount of playlists to run\n",
    "    recForPlaylist = []\n",
    "    for j in frequentPairKeys:\n",
    "        first = j[0]\n",
    "        second = j[1]\n",
    "        \n",
    "        for k in range(len(playlists[i])):\n",
    "            if (playlists[i][k] == first):\n",
    "                recForPlaylist.append(second)\n",
    "            elif (playlists[i][k] == second):\n",
    "                recForPlaylist.append(first)\n",
    "                \n",
    "    recommendations.append(recForPlaylist)"
   ]
  },
  {
   "cell_type": "code",
   "execution_count": 17,
   "id": "53d28679-7a31-41bf-af36-1bd549d80cdd",
   "metadata": {},
   "outputs": [
    {
     "name": "stdout",
     "output_type": "stream",
     "text": [
      "[[], []]\n"
     ]
    }
   ],
   "source": [
    "print(recommendations)"
   ]
  },
  {
   "cell_type": "code",
   "execution_count": 18,
   "id": "bd4237a9-4919-43ee-97a8-599d69966e88",
   "metadata": {},
   "outputs": [],
   "source": [
    "def trimPlaylistPairs(playlists, frequentKeys):\n",
    "    trimPlaylists = []\n",
    "    for i in playlists:\n",
    "        isValidPlaylist = False\n",
    "        for j in frequentKeys:\n",
    "            isKeyItemsInPlaylist = [False for i in range(len(j))]\n",
    "            for k in range(len(j)):\n",
    "                if (j[k] in i):\n",
    "                    isKeyItemsInPlaylist[k] = True\n",
    "            if (False not in isKeyItemsInPlaylist):\n",
    "                isValidPlaylist = True\n",
    "\n",
    "        if (isValidPlaylist):\n",
    "            trimPlaylists.append(i)\n",
    "    \n",
    "    return trimPlaylists"
   ]
  },
  {
   "cell_type": "code",
   "execution_count": 19,
   "id": "e45bb742-af83-4a45-82da-02e940b07042",
   "metadata": {
    "tags": []
   },
   "outputs": [
    {
     "name": "stdout",
     "output_type": "stream",
     "text": [
      "1328\n"
     ]
    }
   ],
   "source": [
    "possibleTriples = []\n",
    "#frequentPairKeys = [(\"a\", \"b\"), (\"b\", \"c\"), (\"a\", \"c\"), (\"b\", \"d\"), (\"a\", \"d\"), (\"a\", \"e\"), (\"b\", \"e\")]\n",
    "\n",
    "# it can only be a triple if {a, b} {b, c} and {a, c} are all frequent doubles\n",
    "for i in range(len(frequentPairKeys)):\n",
    "    a = frequentPairKeys[i][0]\n",
    "    b = frequentPairKeys[i][1]\n",
    "    c = None\n",
    "    \n",
    "    doesExistBC = False\n",
    "    doesExistAC = False\n",
    "    for j in range(i + 1, len(frequentPairKeys)):\n",
    "        if (frequentPairKeys[j][0] == a):\n",
    "            c = frequentPairKeys[j][1]\n",
    "            doesExistAC = True\n",
    "        if (frequentPairKeys[j][1] == a):\n",
    "            c = frequentPairKeys[j][0]\n",
    "            doesExistAC = True\n",
    "            \n",
    "            \n",
    "        if (frequentPairKeys[j][0] == b):\n",
    "            c = frequentPairKeys[j][1]\n",
    "            doesExistBC = True\n",
    "        if (frequentPairKeys[j][1] == b):\n",
    "            c = frequentPairKeys[j][0]\n",
    "            doesExistBC = True\n",
    "            \n",
    "        if (c != None):\n",
    "            frequentSublist = frequentPairKeys[j: len(frequentPairKeys)]\n",
    "            if (doesExistBC):\n",
    "                AC = (a, c)\n",
    "                if (AC in frequentSublist):\n",
    "                    doesExistAC = True\n",
    "                \n",
    "            if (doesExistAC):\n",
    "                BC = (b, c)\n",
    "                if (BC in frequentSublist):\n",
    "                    doesExistBC = True\n",
    "            \n",
    "        if (doesExistBC and doesExistAC):\n",
    "            possibleTriples.append((a, b, c))\n",
    "        \n",
    "        c = None\n",
    "        doesExistBC = False\n",
    "        doesExistAC = False\n",
    "        \n",
    "print(len(possibleTriples))"
   ]
  },
  {
   "cell_type": "code",
   "execution_count": 20,
   "id": "6bfe0ef9-0a45-42a9-94df-cad7d70af385",
   "metadata": {},
   "outputs": [
    {
     "name": "stdout",
     "output_type": "stream",
     "text": [
      "120 48\n",
      "447 99680\n"
     ]
    }
   ],
   "source": [
    "preLength = len(playlists)\n",
    "playlistsNew = trimPlaylistPairs(playlists, frequentPairKeys)\n",
    "print(preLength, len(playlistsNew))\n",
    "\n",
    "length = len(frequentPairKeys)\n",
    "maxIndex = matrixToTriangular(length - 2, length -1, length)\n",
    "print(length, maxIndex)"
   ]
  },
  {
   "cell_type": "code",
   "execution_count": 21,
   "id": "cb2e0d82-dfd8-41bf-8bf1-13fb9d03b743",
   "metadata": {},
   "outputs": [
    {
     "name": "stdout",
     "output_type": "stream",
     "text": [
      "243\n",
      "447\n",
      "1328\n"
     ]
    }
   ],
   "source": [
    "print(len(frequentSingeltonKeys))\n",
    "print(len(frequentPairKeys))\n",
    "print(len(possibleTriples))"
   ]
  },
  {
   "cell_type": "code",
   "execution_count": 22,
   "id": "0b749756-5400-4f76-ba05-cd9f21ba0ad7",
   "metadata": {},
   "outputs": [],
   "source": [
    "def countTriples(key1, key2, key3, playlist):\n",
    "    count = 0\n",
    "\n",
    "    for i in playlist:\n",
    "        if (key1 in i and key2 in i and key3 in i):\n",
    "            count += 1\n",
    "\n",
    "    return count"
   ]
  },
  {
   "cell_type": "code",
   "execution_count": 23,
   "id": "a08f3667-f61a-4538-8ae7-e63bb4978e88",
   "metadata": {},
   "outputs": [
    {
     "name": "stdout",
     "output_type": "stream",
     "text": [
      "1206\n"
     ]
    }
   ],
   "source": [
    "frequentTriples = {}\n",
    "for i in possibleTriples:\n",
    "    count = countTriples(i[0], i[1], i[2], playlistsNew)\n",
    "    if (count >= threshold):\n",
    "        frequentTriples[i] = count\n",
    "        \n",
    "frequentTriplesKeys = list(frequentTriples.keys())\n",
    "print(len(frequentTriplesKeys))\n",
    "    "
   ]
  },
  {
   "cell_type": "code",
   "execution_count": 24,
   "id": "a42ec2ad-1eb6-4c0e-9d0b-47830575501d",
   "metadata": {},
   "outputs": [
    {
     "name": "stdout",
     "output_type": "stream",
     "text": [
      "3060\n"
     ]
    }
   ],
   "source": [
    "possibleQuads = []\n",
    "\n",
    "#frequentTriplesKeys = [(\"a\", \"b\", \"c\"), (\"a\", \"b\", \"d\"), (\"a\", \"c\", \"d\"), (\"b\", \"c\", \"d\")]\n",
    "\n",
    "# quad exists if {a, b, c}, {a, b, d}, {a, d, c}, and {d, b, c} exist\n",
    "for i in range(len(frequentTriplesKeys)):\n",
    "    a = frequentTriplesKeys[i][0]\n",
    "    b = frequentTriplesKeys[i][1]\n",
    "    c = frequentTriplesKeys[i][2]\n",
    "    d = None\n",
    "    \n",
    "    doesExistABD = False\n",
    "    doesExistADC = False\n",
    "    doesExistBDC = False\n",
    "    for j in range(i + 1, len(frequentTriplesKeys)):\n",
    "        # Located {a, b, d}\n",
    "        if (a in frequentTriplesKeys[j] and b in frequentTriplesKeys[j]):\n",
    "            indexA, indexB = frequentTriplesKeys[j].index(a), frequentTriplesKeys[j].index(b)\n",
    "            indexD = 3 - (indexA + indexB)\n",
    "            d = frequentTriplesKeys[j][indexD]\n",
    "            doesExistABD = True\n",
    "\n",
    "        # Located {a, d, c}\n",
    "        if (a in frequentTriplesKeys[j] and c in frequentTriplesKeys[j]):\n",
    "            indexA, indexC = frequentTriplesKeys[j].index(a), frequentTriplesKeys[j].index(c)\n",
    "            indexD = 3 - (indexA + indexC)\n",
    "            d = frequentTriplesKeys[j][indexD]\n",
    "            doesExistADC = True\n",
    "            \n",
    "        # Located {d, b, c}\n",
    "        if (b in frequentTriplesKeys[j] and c in frequentTriplesKeys[j]):\n",
    "            indexB, indexC = frequentTriplesKeys[j].index(b), frequentTriplesKeys[j].index(c)\n",
    "            indexD = 3 - (indexC + indexB)\n",
    "            d = frequentTriplesKeys[j][indexD]\n",
    "            doesExistBDC = True\n",
    "            \n",
    "        if (d != None):\n",
    "            frequentSublist = frequentTriplesKeys[j: len(frequentTriplesKeys)]\n",
    "            # Looking for {a, d, c} {a, c, d} {d, a, c} {d, c, a} {c, a, d} {c, d, a} and \n",
    "            #             {b, d, c} {b, c, d} {c, b, d} {c, d, b} {d, c, b} {d, b, c}\n",
    "            if (doesExistABD):\n",
    "                ACD = (a, c, d) # the only way for {a, d, c} to appear is in order ACD (because of how the keys are stored)\n",
    "                BCD = (b, c, d)\n",
    "                if (ACD in frequentSublist):\n",
    "                    doesExistADC = True\n",
    "                if (BCD in frequentSublist):\n",
    "                    doesExistBDC = True\n",
    "\n",
    "            if (doesExistADC):\n",
    "                ABD = (a, b, d)\n",
    "                BCD = (b, c, d)\n",
    "                \n",
    "                if (ABD in frequentSublist):\n",
    "                    doesExistABD = True\n",
    "                if (BCD in frequentSublist):\n",
    "                    doesExistBDC = True\n",
    "                    \n",
    "            if (doesExistBDC):\n",
    "                ADC = (a, c, d)\n",
    "                ABD = (a, b, d)\n",
    "                \n",
    "                if (ADC in frequentSublist):\n",
    "                    doesExistADC = True\n",
    "                if (ABD in frequentSublist):\n",
    "                    doesExistABD = True\n",
    "                \n",
    "                \n",
    "        if (doesExistABD and doesExistADC and doesExistBDC):\n",
    "            possibleQuads.append((a, b, c, d))\n",
    "        \n",
    "        d = None\n",
    "        doesExistABD = False\n",
    "        doesExistADC = False\n",
    "        doesExistBDC = False\n",
    "        \n",
    "print(len(possibleQuads))"
   ]
  },
  {
   "cell_type": "code",
   "execution_count": 25,
   "id": "4e721c9a-8b60-4c60-b8e3-d5d418554485",
   "metadata": {},
   "outputs": [],
   "source": [
    "for i in range(len(possibleQuads)):\n",
    "    a = possibleQuads[0]\n",
    "    b = possibleQuads[1]\n",
    "    c = possibleQuads[2]\n",
    "    d = possibleQuads[3]\n",
    "    \n",
    "    for j in range(i + 1, len(possibleQuads)):\n",
    "        if ((a in possibleQuads[j]) and (b in possibleQuads[j]) and (c in possibleQuads[j]) and (d in possibleQuads[j])):\n",
    "            print(a, b, c, d)"
   ]
  },
  {
   "cell_type": "code",
   "execution_count": 26,
   "id": "4900a182-20c9-4480-9148-05febecb23b0",
   "metadata": {
    "tags": []
   },
   "outputs": [
    {
     "name": "stdout",
     "output_type": "stream",
     "text": [
      "(('Pendulum', '9,000 Miles'), ('Crystal Castles', 'Celestica'), ('Justice', 'D.A.N.C.E - MSTRKRFT Remix'), ('Justice', 'Genesis'))\n",
      "48\n"
     ]
    }
   ],
   "source": [
    "print(possibleQuads[0])\n",
    "print(len(playlistsNew))"
   ]
  },
  {
   "cell_type": "code",
   "execution_count": 27,
   "id": "62d80321-c2b3-4a3d-9493-fd6e0c6fbbbe",
   "metadata": {},
   "outputs": [],
   "source": [
    "def countQuads(key1, key2, key3, key4, playlist):\n",
    "    count = 0\n",
    "\n",
    "    for i in playlist:\n",
    "        if (key1 in i and key2 in i and key3 in i and key4 in i):\n",
    "            count += 1\n",
    "\n",
    "    return count"
   ]
  },
  {
   "cell_type": "code",
   "execution_count": 28,
   "id": "86e4fde3-46b4-498e-84fc-873b56ad948f",
   "metadata": {},
   "outputs": [
    {
     "name": "stdout",
     "output_type": "stream",
     "text": [
      "3053\n"
     ]
    }
   ],
   "source": [
    "frequentQuads = {}\n",
    "for i in possibleQuads:\n",
    "    count = countQuads(i[0], i[1], i[2], i[3], playlistsNew)\n",
    "    if (count >= threshold):\n",
    "        frequentQuads[i] = count\n",
    "        \n",
    "frequentQuadsKeys = list(frequentQuads.keys())\n",
    "print(len(frequentQuadsKeys))"
   ]
  },
  {
   "cell_type": "code",
   "execution_count": 36,
   "id": "808870f6-e901-42ed-a6c7-8c36ab6ae322",
   "metadata": {
    "tags": []
   },
   "outputs": [
    {
     "name": "stdout",
     "output_type": "stream",
     "text": [
      "[('C2C', 'Down The Road'), ('Korn', 'Narcissistic Cannibal (feat. Skrillex & Kill The Noise)'), ('The Offspring', \"The Kids Aren't Alright\")]\n",
      "\n",
      "[('Crystal Castles', '1991'), ('SomethingALaMode', '5 AM'), ('Pendulum', '9,000 Miles'), ('Data', 'Aerius Light (Kitsuné Dj-Friendly Edit)'), ('Crystal Castles', 'Air War - David Wolf Remix'), ('Crystal Castles', 'Alice Practice'), ('Ratatat', 'Alps'), ('Crystal Castles', 'Baptism'), ('Ratatat', 'Bare Feast'), ('Ratatat', 'Bilar'), ('Ratatat', 'Bird-Priest'), ('Ratatat', 'Black Heroes'), ('Ratatat', 'Bob Gandhi'), ('Ratatat', 'Breaking Away'), ('Ratatat', 'Bruleé'), ('Ratatat', 'Bustelo'), ('Crystal Castles', 'Celestica'), ('Ratatat', 'Cherry'), ('The Prodigy', 'Colours'), ('Crystal Castles VS Health', 'Crimewave'), ('Ratatat', 'Crips'), ('Justice', 'D.A.N.C.E'), ('Justice', 'D.A.N.C.E - MSTRKRFT Remix'), ('Justice', 'D.A.N.C.E. - Radio Edit'), ('Justice', 'DVNO'), ('Ratatat', 'Desert Eagle'), ('Pendulum', 'Different'), ('Glass Candy', 'Digital Versicolor'), ('Ratatat', 'Drugs'), ('Ratatat', 'Dura'), ('Ratatat', 'El Pico'), ('Ratatat', 'Everest'), ('Moby', 'Extreme Ways'), ('Johann Sebastian Bach', 'Faith - Original Mix'), ('Ratatat', 'Falcon Jab'), ('Moby', 'Find My Baby'), ('Ratatat', 'Flynn'), ('Justice', 'Genesis'), ('Ratatat', 'Germany To Germany'), ('Ratatat', 'Gettysburg'), ('Ratatat', 'Gipsy Threat'), ('Moby', 'God Moving Over The Face Of The Waters'), ('Pendulum', 'Granite'), ('Ratatat', 'Grape Juice City'), ('SomethingALaMode', 'Gstring'), ('Moby', 'Honey'), ('Ratatat', 'Imperials'), ('Moby', 'In My Heart'), ('The Prodigy', 'Invaders Must Die'), ('Data', \"J'aime pas l'art\"), ('Ratatat', 'Kennedy'), ('Ratatat', 'Lapland'), ('Justice', 'Let There Be Light'), ('Flairs', 'Levretto'), ('Ratatat', 'Lex'), ('Moby', 'Lift Me Up'), ('Moby', 'Lift Me Up - Radio Mix'), ('Ratatat', 'Loud Pipes'), ('Crystal Castles', 'Magic Spells'), ('Ratatat', 'Mahalo'), ('Ratatat', 'Mandy'), ('Ratatat', 'Mi Viejo'), ('Pendulum', 'Midnight Runner'), ('Ratatat', 'Mirando'), ('Ratatat', 'Montanita'), ('Ratatat', 'Mumtaz Khan'), ('Pendulum', 'Mutiny'), ('Mirwais', 'Naive Song'), ('Moby', 'Natural Blues'), ('Ratatat', 'Neckbrace'), ('Justice', 'Newjack'), ('Ratatat', 'Nostrand'), ('The Prodigy', 'Omen'), ('The Prodigy', 'Omen Reprise'), ('Justice', 'One Minute To Midnight'), ('Data', 'One in a million'), ('Ratatat', 'Party With Children'), ('Justice', 'Phantom'), ('Justice', 'Phantom Pt.II (Soulwax Remix)'), ('Justice', 'Phantom pt. II'), ('The Prodigy', 'Piranhas'), ('Moby', 'Porcelain'), ('Flairs', 'Poursuite!'), ('Pendulum', 'Propane Nightmares'), ('Data', 'Rapture'), ('Crystal Castles', 'Reckless'), ('SomethingALaMode', 'Rondoparisiano'), ('The Prodigy', 'Run With The Wolves'), ('SomethingALaMode', 'SchubertALaMode'), ('Ratatat', 'Seventeen Years'), ('Ratatat', 'Shempi'), ('Ratatat', 'Shiller'), ('Pendulum', 'Showdown'), ('Data', 'Skywriter'), ('Passion Pit', 'Sleepyhead'), ('Ratatat', 'Spanish Armada'), ('The Prodigy', 'Stand Up'), ('Justice', 'Stress'), ('Ratatat', 'Sunblocks'), ('Ratatat', 'Swisha'), ('Ratatat', 'Tacobel Canon'), ('The Prodigy', 'Take Me To The Hospital'), ('Pendulum', 'The Other Side'), ('Justice', 'The Party'), ('Pendulum', 'The Tempest'), ('The Prodigy', 'Thunder'), ('Ratatat', 'Tropicana'), ('Flairs', 'Truckers Delight - Alex Gopher Remix'), ('Flairs', 'Truckers Delight - Alixander III Remix'), ('Crystal Castles', 'Untrust Us'), ('Justice', 'Valentine'), ('Crystal Castles', 'Vanished'), ('Pendulum', 'Visions'), ('The Prodigy', \"Warrior's Dance\"), ('Justice', 'Waters Of Nazareth'), ('Moby', 'We Are All Made Of Stars'), ('Ratatat', 'We Can’t Be Stopped'), ('Ratatat', 'Wildcat'), ('The Prodigy', \"World's On Fire\")]\n"
     ]
    }
   ],
   "source": [
    "recommendations = []\n",
    "for i in range(10): # change to amount of playlists to run\n",
    "    recForPlaylist = []\n",
    "    for j in frequentQuadsKeys:\n",
    "        a = j[0]\n",
    "        b = j[1]\n",
    "        c = j[2]\n",
    "        d = j[3]\n",
    "        \n",
    "        if (a in playlistsOG[i]):\n",
    "            if (b not in playlistsOG[i] and b not in recForPlaylist):\n",
    "                recForPlaylist.append(b)\n",
    "            if (c not in playlistsOG[i] and c not in recForPlaylist):\n",
    "                recForPlaylist.append(c)\n",
    "            if (d not in playlistsOG[i] and d not in recForPlaylist):\n",
    "                recForPlaylist.append(d)\n",
    "            \n",
    "        if (b in playlistsOG[i]):\n",
    "            if (a not in playlistsOG[i] and a not in recForPlaylist):\n",
    "                recForPlaylist.append(a)\n",
    "            if (c not in playlistsOG[i] and c not in recForPlaylist):\n",
    "                recForPlaylist.append(c)\n",
    "            if (d not in playlistsOG[i] and d not in recForPlaylist):\n",
    "                recForPlaylist.append(d)\n",
    "\n",
    "        if (c in playlistsOG[i]):\n",
    "            if (b not in playlistsOG[i] and b not in recForPlaylist):\n",
    "                recForPlaylist.append(b)\n",
    "            if (a not in playlistsOG[i] and a not in recForPlaylist):\n",
    "                recForPlaylist.append(a)\n",
    "            if (d not in playlistsOG[i] and d not in recForPlaylist):\n",
    "                recForPlaylist.append(d)\n",
    "            \n",
    "        if (d in playlistsOG[i]):\n",
    "            if (b not in playlistsOG[i] and b not in recForPlaylist):\n",
    "                recForPlaylist.append(b)\n",
    "            if (c not in playlistsOG[i] and c not in recForPlaylist):\n",
    "                recForPlaylist.append(c)\n",
    "            if (a not in playlistsOG[i] and a not in recForPlaylist):\n",
    "                recForPlaylist.append(a)\n",
    "                \n",
    "    recommendations.append(recForPlaylist)\n",
    "    \n",
    "\n",
    "print(recommendations[7])\n",
    "print()\n",
    "print(playlistsOG[7])"
   ]
  },
  {
   "cell_type": "code",
   "execution_count": 30,
   "id": "03ccecc6-08f1-4c17-a48f-5612116b0620",
   "metadata": {},
   "outputs": [
    {
     "name": "stdout",
     "output_type": "stream",
     "text": [
      "3053\n",
      "1206\n",
      "25\n",
      "447\n",
      "77\n",
      "36\n"
     ]
    }
   ],
   "source": [
    "maximalQuads = dict(frequentQuads)\n",
    "maximalTriples = frequentTriplesKeys.copy()\n",
    "maximalPairs = frequentPairKeys.copy()\n",
    "\n",
    "print(len(maximalQuads))\n",
    "print(len(maximalTriples))\n",
    "for i in frequentTriplesKeys:\n",
    "    a = i[0]\n",
    "    b = i[1]\n",
    "    c = i[2]\n",
    "    \n",
    "    for j in frequentQuadsKeys:\n",
    "        if (a in j and b in j and c in j):\n",
    "            index = maximalTriples.index(i)\n",
    "            maximalTriples.pop(index)\n",
    "            break\n",
    "        \n",
    "print(len(maximalTriples))\n",
    "\n",
    "print(len(maximalPairs))\n",
    "for i in frequentPairKeys:\n",
    "    a = i[0]\n",
    "    b = i[1]\n",
    "    \n",
    "    for j in frequentQuadsKeys:\n",
    "        if (a in j and b in j):\n",
    "            index = maximalPairs.index(i)\n",
    "            maximalPairs.pop(index)\n",
    "            break\n",
    "\n",
    "print(len(maximalPairs))\n",
    "maxPairsIntermediate = maximalPairs.copy()\n",
    "for i in maxPairsIntermediate:\n",
    "    a = i[0]\n",
    "    b = i[1]\n",
    "    for j in maximalTriples:\n",
    "        if (a in j and b in j):\n",
    "            index = maximalPairs.index(i)\n",
    "            maximalPairs.pop(index)\n",
    "            break\n",
    "    \n",
    "print(len(maximalPairs))"
   ]
  },
  {
   "cell_type": "code",
   "execution_count": 31,
   "id": "c11ac617-be2a-45ff-a557-9e8355e1792b",
   "metadata": {
    "tags": []
   },
   "outputs": [],
   "source": [
    "maximal = maximalQuads.copy()\n",
    "for i in maximalTriples:\n",
    "    maximal[i] = frequentTriples[i]\n",
    "    \n",
    "for i in maximalPairs:\n",
    "    maximal[i] = frequentPairs[i]\n",
    "    \n",
    "maximalMatrix = []\n",
    "for i in maximal.keys():\n",
    "    vectorMaximal = []\n",
    "    if (len(i) == 4):\n",
    "        vectorMaximal.append(i[0])\n",
    "        vectorMaximal.append(i[1])\n",
    "        vectorMaximal.append(i[2])\n",
    "        vectorMaximal.append(i[3])\n",
    "    \n",
    "    if (len(i) == 3):\n",
    "        vectorMaximal.append(i[0])\n",
    "        vectorMaximal.append(i[1])\n",
    "        vectorMaximal.append(i[2])\n",
    "        vectorMaximal.append(None)\n",
    "    \n",
    "    if (len(i) == 2):\n",
    "        vectorMaximal.append(i[0])\n",
    "        vectorMaximal.append(i[1])\n",
    "        vectorMaximal.append(None)\n",
    "        vectorMaximal.append(None)\n",
    "        \n",
    "    maximalMatrix.append(vectorMaximal)"
   ]
  },
  {
   "cell_type": "code",
   "execution_count": 32,
   "id": "9460413f-446e-49c9-9b2f-9188cbc97fab",
   "metadata": {
    "tags": []
   },
   "outputs": [],
   "source": [
    "# (1, 2, 3, 4) = {1: (2, 3, 4) -> 1}, {2: (1, 3, 4) -> 2}, {3: (1, 2, 4) -> 3}, {4: (1, 2, 3) -> 4}, \n",
    "#      (1, 2, 3) { 5: (2, 3) -> 1}, { 6: (1, 3) -> 2}, { 7: (1, 2) -> 3},\n",
    "#      (1, 2, 4) { 8: (2, 4) -> 1}, { 9: (1, 4) -> 2}, {10: (1, 2) -> 4},\n",
    "#      (1, 3, 4) {11: (3, 4) -> 1}, {12: (1, 4) -> 3}, {13: (1, 3) -> 4},\n",
    "#      (2, 3, 4) {14: (3, 4) -> 2}, {15: (2, 4) -> 3}, {16: (2, 3) -> 4},\n",
    "#             (1, 2) {17: (2) -> 1}, {18: (1) -> 2},\n",
    "#             (1, 3) {19: (3) -> 1}, {20: (1) -> 3},\n",
    "#             (1, 4) {21: (4) -> 1}, {22: (1) -> 4},\n",
    "#             (2, 3) {23: (3) -> 2}, {24: (2) -> 3},\n",
    "#             (2, 4) {25: (4) -> 2}, {26: (2) -> 4},\n",
    "#             (3, 4) {27: (4) -> 3}, {28: (3) -> 4}\n",
    "\n",
    "# (1, 2, 3) = {1: (2, 3) -> 1}, {2: (1, 3) -> 2}, {3: (1, 2) -> 3}\n",
    "#      (1, 2) {4: (2) -> 1}, {5: (1) -> 2},\n",
    "#      (1, 3) {6: (3) -> 1}, {7: (1) -> 3},\n",
    "#      (2, 3) {8: (3) -> 2}, {9: (2) -> 3}\n",
    "\n",
    "# (1, 2) = {1: (2) -> 1}, {2: (1) -> 2}\n",
    "intrestMatrix = []\n",
    "count = 0\n",
    "for i in maximalMatrix:\n",
    "    intrestMaximal = []\n",
    "    i = maximalMatrix[count].copy()\n",
    "    if (None in i):\n",
    "        i.remove(None)\n",
    "        if (None in i):\n",
    "            i.remove(None)\n",
    "            \n",
    "    if (len(i) == 4):\n",
    "        countFull = frequentQuads[tuple(i)]\n",
    "        for j in i:\n",
    "            subsection = i.copy()\n",
    "            subsection.remove(j)\n",
    "            countj = countSingeltons[j]\n",
    "            countSubsection = frequentTriples[tuple(subsection)]\n",
    "            confidence = countFull / countSubsection\n",
    "            support = countj / len(playlists)\n",
    "            intrest = confidence - support\n",
    "            intrestMaximal.append(intrest)\n",
    "            \n",
    "        for k in range(4):\n",
    "            if (k == 0):\n",
    "                sub1 = [i[0], i[1], i[2]]\n",
    "            elif (k == 1):\n",
    "                sub1 = [i[0], i[1], i[3]]\n",
    "            elif (k == 2):\n",
    "                sub1 = [i[0], i[2], i[3]]\n",
    "            elif (k == 3):\n",
    "                sub1 = [i[1], i[2], i[3]]\n",
    "                \n",
    "            countFull = frequentTriples[tuple(sub1)]\n",
    "            for j in sub1:\n",
    "                subsection = sub1.copy()\n",
    "                subsection.remove(j)\n",
    "                countj = countSingeltons[j]\n",
    "                countSubsection = frequentPairs[tuple(subsection)]\n",
    "                confidence = countFull / countSubsection\n",
    "                support = countj / len(playlists)\n",
    "                intrest = confidence - support\n",
    "                intrestMaximal.append(intrest)\n",
    "                \n",
    "        for k in range(6):\n",
    "            if (k == 0):\n",
    "                sub2 = [i[0], i[1]]\n",
    "            elif (k == 1):\n",
    "                sub2 = [i[0], i[2]]\n",
    "            elif (k == 2):\n",
    "                sub2 = [i[0], i[3]]\n",
    "            elif (k == 3):\n",
    "                sub2 = [i[1], i[2]]\n",
    "            elif (k == 4):\n",
    "                sub2 = [i[1], i[3]]\n",
    "            elif (k == 5):\n",
    "                sub2 = [i[2], i[3]]\n",
    "                \n",
    "            countFull = frequentPairs[tuple(sub2)]\n",
    "            for j in sub2:\n",
    "                subsection = sub2.copy()\n",
    "                subsection.remove(j)\n",
    "                subsection = subsection[0]\n",
    "                countj = countSingeltons[j]\n",
    "                countSubsection = frequentSingeltons[tuple(subsection)]\n",
    "                confidence = countFull / countSubsection\n",
    "                support = countj / len(playlists)\n",
    "                intrest = confidence - support\n",
    "                intrestMaximal.append(intrest)\n",
    "                \n",
    "            \n",
    "    elif (len(i) == 3):\n",
    "        countFull = frequentTriples[tuple(i[:3])]\n",
    "        for j in i:\n",
    "            subsection = i.copy()\n",
    "            subsection.remove(j)\n",
    "            countj = countSingeltons[j]\n",
    "            countSubsection = frequentPairs[tuple(subsection)]\n",
    "            confidence = countFull / countSubsection\n",
    "            support = countj / len(playlists)\n",
    "            intrest = confidence - support\n",
    "            intrestMaximal.append(intrest)\n",
    "        \n",
    "        for k in range(3):\n",
    "            if (k == 0):\n",
    "                sub2 = [i[0], i[1]]\n",
    "            elif (k == 1):\n",
    "                sub2 = [i[0], i[2]]\n",
    "            elif (k == 2):\n",
    "                sub2 = [i[1], i[2]]\n",
    "\n",
    "            countFull = frequentPairs[tuple(sub2)]\n",
    "            for j in sub2:\n",
    "                subsection = sub2.copy()\n",
    "                subsection.remove(j)\n",
    "                subsection = subsection[0]\n",
    "                countj = countSingeltons[j]\n",
    "                countSubsection = frequentSingeltons[tuple(subsection)]\n",
    "                confidence = countFull / countSubsection\n",
    "                support = countj / len(playlists)\n",
    "                intrest = confidence - support\n",
    "                intrestMaximal.append(intrest)\n",
    "                \n",
    "        for j in range(19):\n",
    "            intrestMaximal.append(None)\n",
    "        \n",
    "    elif(len(i) == 2):\n",
    "        countFull = frequentPairs[tuple(i[:3])]\n",
    "        for j in i:\n",
    "            subsection = i.copy()\n",
    "            subsection.remove(j)\n",
    "            subsection = subsection[0]\n",
    "            countj = countSingeltons[j]\n",
    "            countSubsection = frequentSingeltons[tuple(subsection)]\n",
    "            confidence = countFull / countSubsection\n",
    "            support = countj / len(playlists)\n",
    "            intrest = confidence - support\n",
    "            intrestMaximal.append(intrest)\n",
    "        \n",
    "        for j in range(24):\n",
    "            intrestMaximal.append(None)\n",
    "    \n",
    "    intrestMatrix.append(intrestMaximal)\n",
    "    count +=1"
   ]
  },
  {
   "cell_type": "code",
   "execution_count": 33,
   "id": "e5451633-ceb6-43ae-9959-b8b20a890404",
   "metadata": {},
   "outputs": [],
   "source": [
    "for i in range(len(intrestMatrix)):\n",
    "    for j in intrestMatrix[i]:\n",
    "        maximalMatrix[i].append(j)"
   ]
  },
  {
   "cell_type": "code",
   "execution_count": 34,
   "id": "088290dd-fdd9-41bf-81db-861b32b9d85b",
   "metadata": {
    "tags": []
   },
   "outputs": [
    {
     "data": {
      "text/html": [
       "<div>\n",
       "<style scoped>\n",
       "    .dataframe tbody tr th:only-of-type {\n",
       "        vertical-align: middle;\n",
       "    }\n",
       "\n",
       "    .dataframe tbody tr th {\n",
       "        vertical-align: top;\n",
       "    }\n",
       "\n",
       "    .dataframe thead th {\n",
       "        text-align: right;\n",
       "    }\n",
       "</style>\n",
       "<table border=\"1\" class=\"dataframe\">\n",
       "  <thead>\n",
       "    <tr style=\"text-align: right;\">\n",
       "      <th></th>\n",
       "      <th>0</th>\n",
       "      <th>1</th>\n",
       "      <th>2</th>\n",
       "      <th>3</th>\n",
       "      <th>4</th>\n",
       "      <th>5</th>\n",
       "      <th>6</th>\n",
       "      <th>7</th>\n",
       "      <th>8</th>\n",
       "      <th>9</th>\n",
       "      <th>...</th>\n",
       "      <th>22</th>\n",
       "      <th>23</th>\n",
       "      <th>24</th>\n",
       "      <th>25</th>\n",
       "      <th>26</th>\n",
       "      <th>27</th>\n",
       "      <th>28</th>\n",
       "      <th>29</th>\n",
       "      <th>30</th>\n",
       "      <th>31</th>\n",
       "    </tr>\n",
       "  </thead>\n",
       "  <tbody>\n",
       "    <tr>\n",
       "      <th>0</th>\n",
       "      <td>(Pendulum, 9,000 Miles)</td>\n",
       "      <td>(Crystal Castles, Celestica)</td>\n",
       "      <td>(Justice, D.A.N.C.E - MSTRKRFT Remix)</td>\n",
       "      <td>(Justice, Genesis)</td>\n",
       "      <td>0.966667</td>\n",
       "      <td>0.958333</td>\n",
       "      <td>0.966667</td>\n",
       "      <td>0.966667</td>\n",
       "      <td>0.966667</td>\n",
       "      <td>0.958333</td>\n",
       "      <td>...</td>\n",
       "      <td>0.966667</td>\n",
       "      <td>0.966667</td>\n",
       "      <td>0.966667</td>\n",
       "      <td>0.966667</td>\n",
       "      <td>0.958333</td>\n",
       "      <td>0.766667</td>\n",
       "      <td>0.958333</td>\n",
       "      <td>0.766667</td>\n",
       "      <td>0.966667</td>\n",
       "      <td>0.966667</td>\n",
       "    </tr>\n",
       "    <tr>\n",
       "      <th>1</th>\n",
       "      <td>(Pendulum, 9,000 Miles)</td>\n",
       "      <td>(Crystal Castles, Celestica)</td>\n",
       "      <td>(Justice, D.A.N.C.E - MSTRKRFT Remix)</td>\n",
       "      <td>(The Prodigy, Invaders Must Die)</td>\n",
       "      <td>0.966667</td>\n",
       "      <td>0.958333</td>\n",
       "      <td>0.966667</td>\n",
       "      <td>0.966667</td>\n",
       "      <td>0.966667</td>\n",
       "      <td>0.958333</td>\n",
       "      <td>...</td>\n",
       "      <td>0.966667</td>\n",
       "      <td>0.966667</td>\n",
       "      <td>0.966667</td>\n",
       "      <td>0.966667</td>\n",
       "      <td>0.958333</td>\n",
       "      <td>0.766667</td>\n",
       "      <td>0.958333</td>\n",
       "      <td>0.766667</td>\n",
       "      <td>0.966667</td>\n",
       "      <td>0.966667</td>\n",
       "    </tr>\n",
       "    <tr>\n",
       "      <th>2</th>\n",
       "      <td>(Pendulum, 9,000 Miles)</td>\n",
       "      <td>(Crystal Castles, Celestica)</td>\n",
       "      <td>(Justice, D.A.N.C.E - MSTRKRFT Remix)</td>\n",
       "      <td>(Crystal Castles, Magic Spells)</td>\n",
       "      <td>0.966667</td>\n",
       "      <td>0.958333</td>\n",
       "      <td>0.966667</td>\n",
       "      <td>0.966667</td>\n",
       "      <td>0.966667</td>\n",
       "      <td>0.958333</td>\n",
       "      <td>...</td>\n",
       "      <td>0.966667</td>\n",
       "      <td>0.966667</td>\n",
       "      <td>0.966667</td>\n",
       "      <td>0.966667</td>\n",
       "      <td>0.958333</td>\n",
       "      <td>0.766667</td>\n",
       "      <td>0.958333</td>\n",
       "      <td>0.766667</td>\n",
       "      <td>0.966667</td>\n",
       "      <td>0.966667</td>\n",
       "    </tr>\n",
       "    <tr>\n",
       "      <th>3</th>\n",
       "      <td>(Pendulum, 9,000 Miles)</td>\n",
       "      <td>(Crystal Castles, Celestica)</td>\n",
       "      <td>(Justice, D.A.N.C.E - MSTRKRFT Remix)</td>\n",
       "      <td>(Pendulum, Mutiny)</td>\n",
       "      <td>0.966667</td>\n",
       "      <td>0.958333</td>\n",
       "      <td>0.966667</td>\n",
       "      <td>0.966667</td>\n",
       "      <td>0.966667</td>\n",
       "      <td>0.958333</td>\n",
       "      <td>...</td>\n",
       "      <td>0.966667</td>\n",
       "      <td>0.966667</td>\n",
       "      <td>0.966667</td>\n",
       "      <td>0.966667</td>\n",
       "      <td>0.958333</td>\n",
       "      <td>0.766667</td>\n",
       "      <td>0.958333</td>\n",
       "      <td>0.766667</td>\n",
       "      <td>0.966667</td>\n",
       "      <td>0.966667</td>\n",
       "    </tr>\n",
       "    <tr>\n",
       "      <th>4</th>\n",
       "      <td>(Pendulum, 9,000 Miles)</td>\n",
       "      <td>(Crystal Castles, Celestica)</td>\n",
       "      <td>(Justice, D.A.N.C.E - MSTRKRFT Remix)</td>\n",
       "      <td>(Ratatat, Nostrand)</td>\n",
       "      <td>0.966667</td>\n",
       "      <td>0.958333</td>\n",
       "      <td>0.966667</td>\n",
       "      <td>0.966667</td>\n",
       "      <td>0.966667</td>\n",
       "      <td>0.958333</td>\n",
       "      <td>...</td>\n",
       "      <td>0.966667</td>\n",
       "      <td>0.966667</td>\n",
       "      <td>0.966667</td>\n",
       "      <td>0.966667</td>\n",
       "      <td>0.958333</td>\n",
       "      <td>0.766667</td>\n",
       "      <td>0.958333</td>\n",
       "      <td>0.766667</td>\n",
       "      <td>0.966667</td>\n",
       "      <td>0.966667</td>\n",
       "    </tr>\n",
       "  </tbody>\n",
       "</table>\n",
       "<p>5 rows × 32 columns</p>\n",
       "</div>"
      ],
      "text/plain": [
       "                        0                             1   \\\n",
       "0  (Pendulum, 9,000 Miles)  (Crystal Castles, Celestica)   \n",
       "1  (Pendulum, 9,000 Miles)  (Crystal Castles, Celestica)   \n",
       "2  (Pendulum, 9,000 Miles)  (Crystal Castles, Celestica)   \n",
       "3  (Pendulum, 9,000 Miles)  (Crystal Castles, Celestica)   \n",
       "4  (Pendulum, 9,000 Miles)  (Crystal Castles, Celestica)   \n",
       "\n",
       "                                      2                                 3   \\\n",
       "0  (Justice, D.A.N.C.E - MSTRKRFT Remix)                (Justice, Genesis)   \n",
       "1  (Justice, D.A.N.C.E - MSTRKRFT Remix)  (The Prodigy, Invaders Must Die)   \n",
       "2  (Justice, D.A.N.C.E - MSTRKRFT Remix)   (Crystal Castles, Magic Spells)   \n",
       "3  (Justice, D.A.N.C.E - MSTRKRFT Remix)                (Pendulum, Mutiny)   \n",
       "4  (Justice, D.A.N.C.E - MSTRKRFT Remix)               (Ratatat, Nostrand)   \n",
       "\n",
       "         4         5         6         7         8         9   ...        22  \\\n",
       "0  0.966667  0.958333  0.966667  0.966667  0.966667  0.958333  ...  0.966667   \n",
       "1  0.966667  0.958333  0.966667  0.966667  0.966667  0.958333  ...  0.966667   \n",
       "2  0.966667  0.958333  0.966667  0.966667  0.966667  0.958333  ...  0.966667   \n",
       "3  0.966667  0.958333  0.966667  0.966667  0.966667  0.958333  ...  0.966667   \n",
       "4  0.966667  0.958333  0.966667  0.966667  0.966667  0.958333  ...  0.966667   \n",
       "\n",
       "         23        24        25        26        27        28        29  \\\n",
       "0  0.966667  0.966667  0.966667  0.958333  0.766667  0.958333  0.766667   \n",
       "1  0.966667  0.966667  0.966667  0.958333  0.766667  0.958333  0.766667   \n",
       "2  0.966667  0.966667  0.966667  0.958333  0.766667  0.958333  0.766667   \n",
       "3  0.966667  0.966667  0.966667  0.958333  0.766667  0.958333  0.766667   \n",
       "4  0.966667  0.966667  0.966667  0.958333  0.766667  0.958333  0.766667   \n",
       "\n",
       "         30        31  \n",
       "0  0.966667  0.966667  \n",
       "1  0.966667  0.966667  \n",
       "2  0.966667  0.966667  \n",
       "3  0.966667  0.966667  \n",
       "4  0.966667  0.966667  \n",
       "\n",
       "[5 rows x 32 columns]"
      ]
     },
     "execution_count": 34,
     "metadata": {},
     "output_type": "execute_result"
    }
   ],
   "source": [
    "maximalsDF = pd.DataFrame(maximalMatrix)\n",
    "maximalsDF.head()"
   ]
  },
  {
   "cell_type": "code",
   "execution_count": 35,
   "id": "ba3bb22f-db42-41f7-baed-9902f30acca5",
   "metadata": {},
   "outputs": [],
   "source": [
    "maximalsDF.to_csv(\"./playlistData/maximal_T4_20.csv\")"
   ]
  },
  {
   "cell_type": "code",
   "execution_count": null,
   "id": "814bc4f0-706f-4356-804d-d1f3f478a4de",
   "metadata": {},
   "outputs": [],
   "source": []
  }
 ],
 "metadata": {
  "kernelspec": {
   "display_name": "Python 3 (ipykernel)",
   "language": "python",
   "name": "python3"
  },
  "language_info": {
   "codemirror_mode": {
    "name": "ipython",
    "version": 3
   },
   "file_extension": ".py",
   "mimetype": "text/x-python",
   "name": "python",
   "nbconvert_exporter": "python",
   "pygments_lexer": "ipython3",
   "version": "3.9.13"
  }
 },
 "nbformat": 4,
 "nbformat_minor": 5
}
